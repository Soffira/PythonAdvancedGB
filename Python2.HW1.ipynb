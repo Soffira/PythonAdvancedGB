{
 "cells": [
  {
   "cell_type": "markdown",
   "metadata": {},
   "source": [
    "#### Каждое из слов «разработка», «сокет», «декоратор» представить в строковом формате и проверить тип и содержание соответствующих переменных. Затем с помощью онлайн-конвертера преобразовать строковые представление в формат Unicode и также проверить тип и содержимое переменных."
   ]
  },
  {
   "cell_type": "code",
   "execution_count": 218,
   "metadata": {},
   "outputs": [
    {
     "name": "stdout",
     "output_type": "stream",
     "text": [
      "<class 'str'> - разработка\n",
      "<class 'str'> - сокет\n",
      "<class 'str'> - декоратор\n"
     ]
    }
   ],
   "source": [
    "a = 'разработка'\n",
    "b = 'сокет'\n",
    "c = 'декоратор'\n",
    "print(f'{type(a)} - {a}')\n",
    "print(f'{type(b)} - {b}')\n",
    "print(f'{type(c)} - {c}')"
   ]
  },
  {
   "cell_type": "code",
   "execution_count": 219,
   "metadata": {},
   "outputs": [
    {
     "name": "stdout",
     "output_type": "stream",
     "text": [
      "<class 'bytes'>\n",
      "содержимое: разработка\n",
      "<class 'bytes'>\n",
      "содержимое: сокет\n",
      "<class 'bytes'>\n",
      "содержимое: декоратор\n"
     ]
    }
   ],
   "source": [
    "lst = [a, b, c]\n",
    "for s in lst:\n",
    "    s.encode('utf-8')\n",
    "    print(type(s.encode('utf-8')))\n",
    "    print(f'содержимое: {s}')"
   ]
  },
  {
   "cell_type": "markdown",
   "metadata": {},
   "source": [
    "#### Каждое из слов «class», «function», «method» записать в байтовом типе без преобразования в последовательность кодов (не используя методы encode и decode) и определить тип, содержимое и длину соответствующих переменных."
   ]
  },
  {
   "cell_type": "code",
   "execution_count": 220,
   "metadata": {},
   "outputs": [
    {
     "name": "stdout",
     "output_type": "stream",
     "text": [
      "содержимое - b'class', тип - <class 'bytes'>, длина - 5\n",
      "содержимое - b'function', тип - <class 'bytes'>, длина - 8\n",
      "содержимое - b'method', тип - <class 'bytes'>, длина - 6\n"
     ]
    }
   ],
   "source": [
    "word_1 = b'class'\n",
    "word_2 = b'function'\n",
    "word_3 = b'method'\n",
    "lst1 = [word_1, word_2, word_3]\n",
    "for i in lst1:\n",
    "    print(f'содержимое - {i}, тип - {type(i)}, длина - {len(i)}')"
   ]
  },
  {
   "cell_type": "markdown",
   "metadata": {},
   "source": [
    "#### Определить, какие из слов «attribute», «класс», «функция», «type» невозможно записать в байтовом типе."
   ]
  },
  {
   "cell_type": "code",
   "execution_count": 221,
   "metadata": {},
   "outputs": [],
   "source": [
    "w_1 = b'attribute'\n",
    "#w_2 = b'класс'\n",
    "#w_3 = b'функция'\n",
    "w_3 = b'type'"
   ]
  },
  {
   "cell_type": "markdown",
   "metadata": {},
   "source": [
    "При записи слов 'класс' и 'функция' в байтовый формат выходит ошибка о том, что формат bytes может содержать только ASCII буквенные характеристики."
   ]
  },
  {
   "cell_type": "markdown",
   "metadata": {},
   "source": [
    "#### Преобразовать слова «разработка», «администрирование», «protocol», «standard» из строкового представления в байтовое и выполнить обратное преобразование (используя методы encode и decode)."
   ]
  },
  {
   "cell_type": "code",
   "execution_count": 222,
   "metadata": {},
   "outputs": [
    {
     "name": "stdout",
     "output_type": "stream",
     "text": [
      "[b'\\xd1\\x80\\xd0\\xb0\\xd0\\xb7\\xd1\\x80\\xd0\\xb0\\xd0\\xb1\\xd0\\xbe\\xd1\\x82\\xd0\\xba\\xd0\\xb0', b'\\xd0\\xb0\\xd0\\xb4\\xd0\\xbc\\xd0\\xb8\\xd0\\xbd\\xd0\\xb8\\xd1\\x81\\xd1\\x82\\xd1\\x80\\xd0\\xb8\\xd1\\x80\\xd0\\xbe\\xd0\\xb2\\xd0\\xb0\\xd0\\xbd\\xd0\\xb8\\xd0\\xb5', b'protocol', b'standard']\n",
      "\n",
      "['разработка', 'администрирование', 'protocol', 'standard']\n"
     ]
    }
   ],
   "source": [
    "lst_for_encode = ['разработка', 'администрирование', 'protocol', 'standard']\n",
    "\n",
    "lst_for_decode = []\n",
    "for a in lst_for_encode:\n",
    "    lst_for_decode.append(a.encode())\n",
    "    \n",
    "lst_for_double_encode = []\n",
    "for w in lst_for_decode:\n",
    "    lst_for_double_encode.append(w.decode())\n",
    "    \n",
    "print(lst_for_decode)\n",
    "print()\n",
    "print(lst_for_double_encode)"
   ]
  },
  {
   "cell_type": "markdown",
   "metadata": {},
   "source": [
    "#### Выполнить пинг веб-ресурсов yandex.ru, youtube.com и преобразовать результаты из байтовового в строковый тип на кириллице."
   ]
  },
  {
   "cell_type": "code",
   "execution_count": 223,
   "metadata": {},
   "outputs": [],
   "source": [
    "import requests\n",
    "\n",
    "response_b = requests.get('http://yandex.ru')\n",
    "#print(response_b.content) # печать ответа в байтовом формате\n",
    "response_str = response_b.content.decode('utf8')\n",
    "#print(response_str) # печать преобразованного ответа\n",
    "\n",
    "response_b = requests.get('http://youtube.com')\n",
    "#print(response_b.content) # печать ответа в байтовом формате\n",
    "response_str = response_b.content.decode('utf8')\n",
    "#print(response_str) #печать преобразованного ответа"
   ]
  },
  {
   "cell_type": "markdown",
   "metadata": {},
   "source": [
    "#### Создать текстовый файл test_file.txt, заполнить его тремя строками: «сетевое программирование», «сокет», «декоратор». Проверить кодировку файла по умолчанию. Принудительно открыть файл в формате Unicode и вывести его содержимое."
   ]
  },
  {
   "cell_type": "code",
   "execution_count": 224,
   "metadata": {},
   "outputs": [
    {
     "name": "stdout",
     "output_type": "stream",
     "text": [
      "{'encoding': 'windows-1251', 'confidence': 0.9929305516756276, 'language': 'Russian'}\n"
     ]
    }
   ],
   "source": [
    "# Проверка 1\n",
    "from chardet.universaldetector import UniversalDetector\n",
    "\n",
    "detector = UniversalDetector()\n",
    "with open('E:\\\\Git\\\\Обучение Искусственный интеллект\\\\Python advanced\\\\lesson 1\\\\test_file.txt', 'rb') as fh:\n",
    "#with open('test_file.txt', 'rb') as fh:\n",
    "    for line in fh:\n",
    "        detector.feed(line)\n",
    "        if detector.done:\n",
    "            break\n",
    "    detector.close()\n",
    "print(detector.result)"
   ]
  },
  {
   "cell_type": "code",
   "execution_count": 225,
   "metadata": {},
   "outputs": [
    {
     "name": "stdout",
     "output_type": "stream",
     "text": [
      "{'encoding': 'utf-8', 'confidence': 0.99, 'language': ''}\n",
      "{'encoding': 'utf-8', 'confidence': 0.9690625, 'language': ''}\n",
      "{'encoding': 'utf-8', 'confidence': 0.99, 'language': ''}\n"
     ]
    }
   ],
   "source": [
    "# Проверка 2\n",
    "import chardet\n",
    "\n",
    "with open('E:\\\\Git\\\\Обучение Искусственный интеллект\\\\Python advanced\\\\lesson 1\\\\test_file.txt', 'r') as fh:\n",
    "    for line in fh:\n",
    "        a = line.encode()\n",
    "        print(chardet.detect(a))"
   ]
  }
 ],
 "metadata": {
  "kernelspec": {
   "display_name": "Python 3",
   "language": "python",
   "name": "python3"
  },
  "language_info": {
   "codemirror_mode": {
    "name": "ipython",
    "version": 3
   },
   "file_extension": ".py",
   "mimetype": "text/x-python",
   "name": "python",
   "nbconvert_exporter": "python",
   "pygments_lexer": "ipython3",
   "version": "3.6.5"
  }
 },
 "nbformat": 4,
 "nbformat_minor": 2
}
